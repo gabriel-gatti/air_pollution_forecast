{
  "nbformat": 4,
  "nbformat_minor": 0,
  "metadata": {
    "colab": {
      "name": "Analise dos restulados.ipynb",
      "provenance": [],
      "collapsed_sections": [
        "orLS9e9BZPI8"
      ],
      "authorship_tag": "ABX9TyOfCvBQ57k4JpT6nKjLxMdj",
      "include_colab_link": true
    },
    "kernelspec": {
      "name": "python3",
      "display_name": "Python 3"
    },
    "language_info": {
      "name": "python"
    }
  },
  "cells": [
    {
      "cell_type": "markdown",
      "metadata": {
        "id": "view-in-github",
        "colab_type": "text"
      },
      "source": [
        "<a href=\"https://colab.research.google.com/github/gabriel-gatti/air_pollution_forecast/blob/master/Analise_dos_restulados.ipynb\" target=\"_parent\"><img src=\"https://colab.research.google.com/assets/colab-badge.svg\" alt=\"Open In Colab\"/></a>"
      ]
    },
    {
      "cell_type": "markdown",
      "metadata": {
        "id": "orLS9e9BZPI8"
      },
      "source": [
        "#Setup"
      ]
    },
    {
      "cell_type": "markdown",
      "metadata": {
        "id": "_DW0F3bAnRno"
      },
      "source": [
        "###Import libraries and data"
      ]
    },
    {
      "cell_type": "code",
      "metadata": {
        "id": "CInbowiAQAyL"
      },
      "source": [
        "import pandas as pd\n",
        "import datetime\n",
        "from copy import deepcopy\n",
        "from sklearn.linear_model import LinearRegression\n",
        "import matplotlib\n",
        "import seaborn as sns\n",
        "sns.set_theme(style=\"whitegrid\")\n",
        "get_palette = lambda x: sns.cubehelix_palette(light=.8, n_colors=x)\n",
        "\n",
        "uri = 'https://raw.githubusercontent.com/gabriel-gatti/air_pollution_forecast/master/Resultados_TCC.csv'\n",
        "df_raw = pd.read_csv(uri)"
      ],
      "execution_count": 264,
      "outputs": []
    },
    {
      "cell_type": "markdown",
      "metadata": {
        "id": "tPHOs_DoSYDw"
      },
      "source": [
        "###Tratamento do DataFrame"
      ]
    },
    {
      "cell_type": "code",
      "metadata": {
        "id": "va2b_XjCUZPJ"
      },
      "source": [
        "num_cols = ['Time to Select (seconds)', 'RMSE', 'drop_out', 'learning_rate']\n",
        "\n",
        "for col in num_cols:\n",
        "  df_raw[col] = df_raw[col].apply(lambda x: float(x.replace(',','.')))\n",
        "\n",
        "df_numeric = df_raw"
      ],
      "execution_count": 53,
      "outputs": []
    },
    {
      "cell_type": "code",
      "metadata": {
        "id": "l_zcEG6sSQfn"
      },
      "source": [
        "attrs = ['PRESS', 'RH_DP', 'TEMP', 'WIND', 'CO', 'NO2', 'OZONE', 'SO2']\n",
        "\n",
        "for attr in attrs:\n",
        "  df_numeric[attr] = df_numeric['Attributes Selected'].apply(lambda x: 1 if attr in x else 0)\n",
        "\n",
        "df_encoded = df_numeric.drop('Attributes Selected', axis=1)"
      ],
      "execution_count": 54,
      "outputs": []
    },
    {
      "cell_type": "code",
      "metadata": {
        "id": "0PpTf5cKUrhP"
      },
      "source": [
        "get_time = lambda x: datetime.datetime.strptime(x, '%H:%M:%S.%f')\n",
        "base = get_time('00:00:00.000000')\n",
        "\n",
        "df_encoded['Training Duration'] = df_encoded['Training Duration'].apply(lambda x: (get_time(x) - base).total_seconds())\n",
        "\n",
        "df_final = df_encoded"
      ],
      "execution_count": 55,
      "outputs": []
    },
    {
      "cell_type": "markdown",
      "metadata": {
        "id": "-dzT7YbTY8TL"
      },
      "source": [
        "# Análise dos Attributos"
      ]
    },
    {
      "cell_type": "markdown",
      "metadata": {
        "id": "PxwleoFjnej8"
      },
      "source": [
        "###Copiando Dataset para evitar overwrite"
      ]
    },
    {
      "cell_type": "code",
      "metadata": {
        "colab": {
          "base_uri": "https://localhost:8080/",
          "height": 583
        },
        "id": "K8fXvq7gXhRq",
        "outputId": "5be476b6-b68e-46b1-91dc-5ff1e13fd8d1"
      },
      "source": [
        "erro_col = ['RMSE']\n",
        "df_fs = deepcopy(df_final[attrs + erro_col])\n",
        "\n",
        "df_fs"
      ],
      "execution_count": 92,
      "outputs": [
        {
          "output_type": "execute_result",
          "data": {
            "text/html": [
              "<div>\n",
              "<style scoped>\n",
              "    .dataframe tbody tr th:only-of-type {\n",
              "        vertical-align: middle;\n",
              "    }\n",
              "\n",
              "    .dataframe tbody tr th {\n",
              "        vertical-align: top;\n",
              "    }\n",
              "\n",
              "    .dataframe thead th {\n",
              "        text-align: right;\n",
              "    }\n",
              "</style>\n",
              "<table border=\"1\" class=\"dataframe\">\n",
              "  <thead>\n",
              "    <tr style=\"text-align: right;\">\n",
              "      <th></th>\n",
              "      <th>PRESS</th>\n",
              "      <th>RH_DP</th>\n",
              "      <th>TEMP</th>\n",
              "      <th>WIND</th>\n",
              "      <th>CO</th>\n",
              "      <th>NO2</th>\n",
              "      <th>OZONE</th>\n",
              "      <th>SO2</th>\n",
              "      <th>RMSE</th>\n",
              "    </tr>\n",
              "  </thead>\n",
              "  <tbody>\n",
              "    <tr>\n",
              "      <th>0</th>\n",
              "      <td>0</td>\n",
              "      <td>1</td>\n",
              "      <td>1</td>\n",
              "      <td>0</td>\n",
              "      <td>0</td>\n",
              "      <td>0</td>\n",
              "      <td>1</td>\n",
              "      <td>0</td>\n",
              "      <td>0.374676</td>\n",
              "    </tr>\n",
              "    <tr>\n",
              "      <th>1</th>\n",
              "      <td>0</td>\n",
              "      <td>0</td>\n",
              "      <td>0</td>\n",
              "      <td>0</td>\n",
              "      <td>1</td>\n",
              "      <td>1</td>\n",
              "      <td>0</td>\n",
              "      <td>1</td>\n",
              "      <td>0.339690</td>\n",
              "    </tr>\n",
              "    <tr>\n",
              "      <th>2</th>\n",
              "      <td>0</td>\n",
              "      <td>0</td>\n",
              "      <td>0</td>\n",
              "      <td>1</td>\n",
              "      <td>1</td>\n",
              "      <td>1</td>\n",
              "      <td>0</td>\n",
              "      <td>0</td>\n",
              "      <td>0.329618</td>\n",
              "    </tr>\n",
              "    <tr>\n",
              "      <th>3</th>\n",
              "      <td>0</td>\n",
              "      <td>0</td>\n",
              "      <td>1</td>\n",
              "      <td>0</td>\n",
              "      <td>1</td>\n",
              "      <td>0</td>\n",
              "      <td>0</td>\n",
              "      <td>1</td>\n",
              "      <td>0.337787</td>\n",
              "    </tr>\n",
              "    <tr>\n",
              "      <th>4</th>\n",
              "      <td>0</td>\n",
              "      <td>0</td>\n",
              "      <td>1</td>\n",
              "      <td>0</td>\n",
              "      <td>1</td>\n",
              "      <td>1</td>\n",
              "      <td>0</td>\n",
              "      <td>0</td>\n",
              "      <td>0.327977</td>\n",
              "    </tr>\n",
              "    <tr>\n",
              "      <th>5</th>\n",
              "      <td>0</td>\n",
              "      <td>1</td>\n",
              "      <td>1</td>\n",
              "      <td>0</td>\n",
              "      <td>0</td>\n",
              "      <td>1</td>\n",
              "      <td>1</td>\n",
              "      <td>0</td>\n",
              "      <td>0.332085</td>\n",
              "    </tr>\n",
              "    <tr>\n",
              "      <th>6</th>\n",
              "      <td>0</td>\n",
              "      <td>0</td>\n",
              "      <td>0</td>\n",
              "      <td>1</td>\n",
              "      <td>1</td>\n",
              "      <td>1</td>\n",
              "      <td>0</td>\n",
              "      <td>1</td>\n",
              "      <td>0.329488</td>\n",
              "    </tr>\n",
              "    <tr>\n",
              "      <th>7</th>\n",
              "      <td>0</td>\n",
              "      <td>0</td>\n",
              "      <td>0</td>\n",
              "      <td>1</td>\n",
              "      <td>1</td>\n",
              "      <td>1</td>\n",
              "      <td>1</td>\n",
              "      <td>0</td>\n",
              "      <td>0.336935</td>\n",
              "    </tr>\n",
              "    <tr>\n",
              "      <th>8</th>\n",
              "      <td>0</td>\n",
              "      <td>1</td>\n",
              "      <td>1</td>\n",
              "      <td>0</td>\n",
              "      <td>1</td>\n",
              "      <td>0</td>\n",
              "      <td>0</td>\n",
              "      <td>1</td>\n",
              "      <td>0.332289</td>\n",
              "    </tr>\n",
              "    <tr>\n",
              "      <th>9</th>\n",
              "      <td>0</td>\n",
              "      <td>1</td>\n",
              "      <td>1</td>\n",
              "      <td>0</td>\n",
              "      <td>1</td>\n",
              "      <td>1</td>\n",
              "      <td>0</td>\n",
              "      <td>0</td>\n",
              "      <td>0.329267</td>\n",
              "    </tr>\n",
              "    <tr>\n",
              "      <th>10</th>\n",
              "      <td>1</td>\n",
              "      <td>1</td>\n",
              "      <td>1</td>\n",
              "      <td>0</td>\n",
              "      <td>0</td>\n",
              "      <td>1</td>\n",
              "      <td>1</td>\n",
              "      <td>0</td>\n",
              "      <td>0.328360</td>\n",
              "    </tr>\n",
              "    <tr>\n",
              "      <th>11</th>\n",
              "      <td>1</td>\n",
              "      <td>0</td>\n",
              "      <td>0</td>\n",
              "      <td>1</td>\n",
              "      <td>1</td>\n",
              "      <td>1</td>\n",
              "      <td>0</td>\n",
              "      <td>1</td>\n",
              "      <td>0.328649</td>\n",
              "    </tr>\n",
              "    <tr>\n",
              "      <th>12</th>\n",
              "      <td>0</td>\n",
              "      <td>0</td>\n",
              "      <td>0</td>\n",
              "      <td>1</td>\n",
              "      <td>1</td>\n",
              "      <td>1</td>\n",
              "      <td>1</td>\n",
              "      <td>1</td>\n",
              "      <td>0.327374</td>\n",
              "    </tr>\n",
              "    <tr>\n",
              "      <th>13</th>\n",
              "      <td>0</td>\n",
              "      <td>1</td>\n",
              "      <td>1</td>\n",
              "      <td>0</td>\n",
              "      <td>1</td>\n",
              "      <td>0</td>\n",
              "      <td>1</td>\n",
              "      <td>1</td>\n",
              "      <td>0.329092</td>\n",
              "    </tr>\n",
              "    <tr>\n",
              "      <th>14</th>\n",
              "      <td>1</td>\n",
              "      <td>1</td>\n",
              "      <td>1</td>\n",
              "      <td>0</td>\n",
              "      <td>1</td>\n",
              "      <td>1</td>\n",
              "      <td>0</td>\n",
              "      <td>0</td>\n",
              "      <td>0.326361</td>\n",
              "    </tr>\n",
              "    <tr>\n",
              "      <th>15</th>\n",
              "      <td>1</td>\n",
              "      <td>1</td>\n",
              "      <td>1</td>\n",
              "      <td>1</td>\n",
              "      <td>1</td>\n",
              "      <td>1</td>\n",
              "      <td>1</td>\n",
              "      <td>0</td>\n",
              "      <td>0.321757</td>\n",
              "    </tr>\n",
              "    <tr>\n",
              "      <th>16</th>\n",
              "      <td>1</td>\n",
              "      <td>1</td>\n",
              "      <td>1</td>\n",
              "      <td>1</td>\n",
              "      <td>1</td>\n",
              "      <td>1</td>\n",
              "      <td>1</td>\n",
              "      <td>1</td>\n",
              "      <td>0.326099</td>\n",
              "    </tr>\n",
              "  </tbody>\n",
              "</table>\n",
              "</div>"
            ],
            "text/plain": [
              "    PRESS  RH_DP  TEMP  WIND  CO  NO2  OZONE  SO2      RMSE\n",
              "0       0      1     1     0   0    0      1    0  0.374676\n",
              "1       0      0     0     0   1    1      0    1  0.339690\n",
              "2       0      0     0     1   1    1      0    0  0.329618\n",
              "3       0      0     1     0   1    0      0    1  0.337787\n",
              "4       0      0     1     0   1    1      0    0  0.327977\n",
              "5       0      1     1     0   0    1      1    0  0.332085\n",
              "6       0      0     0     1   1    1      0    1  0.329488\n",
              "7       0      0     0     1   1    1      1    0  0.336935\n",
              "8       0      1     1     0   1    0      0    1  0.332289\n",
              "9       0      1     1     0   1    1      0    0  0.329267\n",
              "10      1      1     1     0   0    1      1    0  0.328360\n",
              "11      1      0     0     1   1    1      0    1  0.328649\n",
              "12      0      0     0     1   1    1      1    1  0.327374\n",
              "13      0      1     1     0   1    0      1    1  0.329092\n",
              "14      1      1     1     0   1    1      0    0  0.326361\n",
              "15      1      1     1     1   1    1      1    0  0.321757\n",
              "16      1      1     1     1   1    1      1    1  0.326099"
            ]
          },
          "metadata": {
            "tags": []
          },
          "execution_count": 92
        }
      ]
    },
    {
      "cell_type": "markdown",
      "metadata": {
        "id": "qtD1Ik77jkDq"
      },
      "source": [
        "### Regressão Lienar Multipla"
      ]
    },
    {
      "cell_type": "code",
      "metadata": {
        "colab": {
          "base_uri": "https://localhost:8080/",
          "height": 475
        },
        "id": "WhOlskBQf0I7",
        "outputId": "dea144dc-eff2-4f78-f4d3-b316fac2224c"
      },
      "source": [
        "linear_regressor = sklearn.linear_model.LinearRegression(copy_X=True, normalize=False)\n",
        "linear_regressor.fit(df_fs[attrs], df_fs[erro_col])\n",
        "\n",
        "df_coef = pd.DataFrame(linear_regressor.coef_[0], index=attrs, columns=['Coef']).sort_values(by='Coef', ascending=True).reset_index()\n",
        "print(df_coef)\n",
        "\n",
        "sns.barplot(data=df_coef, x='Coef', y='index', orient='h', palette='flare').set_title('Coeficientes da Regressão Linear Multipla')"
      ],
      "execution_count": 308,
      "outputs": [
        {
          "output_type": "stream",
          "text": [
            "   index      Coef\n",
            "0    NO2 -0.020014\n",
            "1     CO -0.014209\n",
            "2   TEMP -0.011380\n",
            "3    SO2 -0.006879\n",
            "4  RH_DP -0.001055\n",
            "5  OZONE -0.000938\n",
            "6   WIND -0.000907\n",
            "7  PRESS -0.000484\n"
          ],
          "name": "stdout"
        },
        {
          "output_type": "execute_result",
          "data": {
            "text/plain": [
              "Text(0.5, 1.0, 'Coeficientes da Regressão Linear Multipla')"
            ]
          },
          "metadata": {
            "tags": []
          },
          "execution_count": 308
        },
        {
          "output_type": "display_data",
          "data": {
            "image/png": "[encoded data removed]",
            "text/plain": [
              "<Figure size 432x288 with 1 Axes>"
            ]
          },
          "metadata": {
            "tags": []
          }
        }
      ]
    },
    {
      "cell_type": "markdown",
      "metadata": {
        "id": "6QRzxwFvm5py"
      },
      "source": [
        "# Análise dos Métodos"
      ]
    },
    {
      "cell_type": "markdown",
      "metadata": {
        "id": "NcnULALdnpDw"
      },
      "source": [
        "###Copiando Dataset para evitar overwrite"
      ]
    },
    {
      "cell_type": "code",
      "metadata": {
        "colab": {
          "base_uri": "https://localhost:8080/",
          "height": 583
        },
        "id": "FO7apDiznul8",
        "outputId": "f33f23cd-9b1f-4ec4-eca4-1df798f6ea74"
      },
      "source": [
        "method_related_cols = ['Method', 'Nº Attributes to select']\n",
        "methods = ['VarianceTreshold', 'SelectKBest_f_regression', 'SelectKBest_mutual_info_regression', 'SequentialFeatureSelector', 'RFE']\n",
        "df_mtd = deepcopy(df_final[method_related_cols + erro_col])\n",
        "df_mtd['RMSE norm'] = (df_mtd['RMSE'] - df_mtd['RMSE'].min())/(df_mtd['RMSE'].max()-df_mtd['RMSE'].min())\n",
        "df_mtd = df_mtd.rename(columns={'Nº Attributes to select':'n'})\n",
        "\n",
        "df_mtd_partial = df_mtd[df_mtd['Method'].apply(lambda x: x in methods) ]\n",
        "\n",
        "df_mtd"
      ],
      "execution_count": 207,
      "outputs": [
        {
          "output_type": "execute_result",
          "data": {
            "text/html": [
              "<div>\n",
              "<style scoped>\n",
              "    .dataframe tbody tr th:only-of-type {\n",
              "        vertical-align: middle;\n",
              "    }\n",
              "\n",
              "    .dataframe tbody tr th {\n",
              "        vertical-align: top;\n",
              "    }\n",
              "\n",
              "    .dataframe thead th {\n",
              "        text-align: right;\n",
              "    }\n",
              "</style>\n",
              "<table border=\"1\" class=\"dataframe\">\n",
              "  <thead>\n",
              "    <tr style=\"text-align: right;\">\n",
              "      <th></th>\n",
              "      <th>Method</th>\n",
              "      <th>n</th>\n",
              "      <th>RMSE</th>\n",
              "      <th>RMSE norm</th>\n",
              "    </tr>\n",
              "  </thead>\n",
              "  <tbody>\n",
              "    <tr>\n",
              "      <th>0</th>\n",
              "      <td>VarianceTreshold</td>\n",
              "      <td>3</td>\n",
              "      <td>0.374676</td>\n",
              "      <td>1.000000</td>\n",
              "    </tr>\n",
              "    <tr>\n",
              "      <th>1</th>\n",
              "      <td>SelectKBest_f_regression</td>\n",
              "      <td>3</td>\n",
              "      <td>0.339690</td>\n",
              "      <td>0.338877</td>\n",
              "    </tr>\n",
              "    <tr>\n",
              "      <th>2</th>\n",
              "      <td>SelectKBest_mutual_info_regression</td>\n",
              "      <td>3</td>\n",
              "      <td>0.329618</td>\n",
              "      <td>0.148540</td>\n",
              "    </tr>\n",
              "    <tr>\n",
              "      <th>3</th>\n",
              "      <td>SequentialFeatureSelector</td>\n",
              "      <td>3</td>\n",
              "      <td>0.337787</td>\n",
              "      <td>0.302909</td>\n",
              "    </tr>\n",
              "    <tr>\n",
              "      <th>4</th>\n",
              "      <td>RFE</td>\n",
              "      <td>3</td>\n",
              "      <td>0.327977</td>\n",
              "      <td>0.117535</td>\n",
              "    </tr>\n",
              "    <tr>\n",
              "      <th>5</th>\n",
              "      <td>VarianceTreshold</td>\n",
              "      <td>4</td>\n",
              "      <td>0.332085</td>\n",
              "      <td>0.195160</td>\n",
              "    </tr>\n",
              "    <tr>\n",
              "      <th>6</th>\n",
              "      <td>SelectKBest_f_regression</td>\n",
              "      <td>4</td>\n",
              "      <td>0.329488</td>\n",
              "      <td>0.146092</td>\n",
              "    </tr>\n",
              "    <tr>\n",
              "      <th>7</th>\n",
              "      <td>SelectKBest_mutual_info_regression</td>\n",
              "      <td>4</td>\n",
              "      <td>0.336935</td>\n",
              "      <td>0.286809</td>\n",
              "    </tr>\n",
              "    <tr>\n",
              "      <th>8</th>\n",
              "      <td>SequentialFeatureSelector</td>\n",
              "      <td>4</td>\n",
              "      <td>0.332289</td>\n",
              "      <td>0.199016</td>\n",
              "    </tr>\n",
              "    <tr>\n",
              "      <th>9</th>\n",
              "      <td>RFE</td>\n",
              "      <td>4</td>\n",
              "      <td>0.329267</td>\n",
              "      <td>0.141921</td>\n",
              "    </tr>\n",
              "    <tr>\n",
              "      <th>10</th>\n",
              "      <td>VarianceTreshold</td>\n",
              "      <td>5</td>\n",
              "      <td>0.328360</td>\n",
              "      <td>0.124780</td>\n",
              "    </tr>\n",
              "    <tr>\n",
              "      <th>11</th>\n",
              "      <td>SelectKBest_f_regression</td>\n",
              "      <td>5</td>\n",
              "      <td>0.328649</td>\n",
              "      <td>0.130238</td>\n",
              "    </tr>\n",
              "    <tr>\n",
              "      <th>12</th>\n",
              "      <td>SelectKBest_mutual_info_regression</td>\n",
              "      <td>5</td>\n",
              "      <td>0.327374</td>\n",
              "      <td>0.106142</td>\n",
              "    </tr>\n",
              "    <tr>\n",
              "      <th>13</th>\n",
              "      <td>SequentialFeatureSelector</td>\n",
              "      <td>5</td>\n",
              "      <td>0.329092</td>\n",
              "      <td>0.138603</td>\n",
              "    </tr>\n",
              "    <tr>\n",
              "      <th>14</th>\n",
              "      <td>RFE</td>\n",
              "      <td>5</td>\n",
              "      <td>0.326361</td>\n",
              "      <td>0.087006</td>\n",
              "    </tr>\n",
              "    <tr>\n",
              "      <th>15</th>\n",
              "      <td>RFECV</td>\n",
              "      <td>7</td>\n",
              "      <td>0.321757</td>\n",
              "      <td>0.000000</td>\n",
              "    </tr>\n",
              "    <tr>\n",
              "      <th>16</th>\n",
              "      <td>Base Case</td>\n",
              "      <td>8</td>\n",
              "      <td>0.326099</td>\n",
              "      <td>0.082053</td>\n",
              "    </tr>\n",
              "  </tbody>\n",
              "</table>\n",
              "</div>"
            ],
            "text/plain": [
              "                                Method  n      RMSE  RMSE norm\n",
              "0                     VarianceTreshold  3  0.374676   1.000000\n",
              "1             SelectKBest_f_regression  3  0.339690   0.338877\n",
              "2   SelectKBest_mutual_info_regression  3  0.329618   0.148540\n",
              "3            SequentialFeatureSelector  3  0.337787   0.302909\n",
              "4                                  RFE  3  0.327977   0.117535\n",
              "5                     VarianceTreshold  4  0.332085   0.195160\n",
              "6             SelectKBest_f_regression  4  0.329488   0.146092\n",
              "7   SelectKBest_mutual_info_regression  4  0.336935   0.286809\n",
              "8            SequentialFeatureSelector  4  0.332289   0.199016\n",
              "9                                  RFE  4  0.329267   0.141921\n",
              "10                    VarianceTreshold  5  0.328360   0.124780\n",
              "11            SelectKBest_f_regression  5  0.328649   0.130238\n",
              "12  SelectKBest_mutual_info_regression  5  0.327374   0.106142\n",
              "13           SequentialFeatureSelector  5  0.329092   0.138603\n",
              "14                                 RFE  5  0.326361   0.087006\n",
              "15                               RFECV  7  0.321757   0.000000\n",
              "16                           Base Case  8  0.326099   0.082053"
            ]
          },
          "metadata": {
            "tags": []
          },
          "execution_count": 207
        }
      ]
    },
    {
      "cell_type": "markdown",
      "metadata": {
        "id": "GCF-Z5OMntQ6"
      },
      "source": [
        "### Metodos x RMSE"
      ]
    },
    {
      "cell_type": "markdown",
      "metadata": {
        "id": "QKbvd_HgAFU1"
      },
      "source": [
        "##### Comparação de Métodos para cada n (Tá aqui just in case. Não acho que agrege muito)"
      ]
    },
    {
      "cell_type": "code",
      "metadata": {
        "colab": {
          "base_uri": "https://localhost:8080/",
          "height": 302
        },
        "id": "lRnHtQlosMjK",
        "outputId": "c933ff85-d14e-43cb-f691-eebf8f8a526b"
      },
      "source": [
        "sns.barplot(data=df_mtd_partial, y=\"n\", x=\"RMSE norm\", orient='h',hue=\"Method\", ci='sd', palette='flare')\n"
      ],
      "execution_count": 311,
      "outputs": [
        {
          "output_type": "execute_result",
          "data": {
            "text/plain": [
              "<matplotlib.axes._subplots.AxesSubplot at 0x7f86619ffd10>"
            ]
          },
          "metadata": {
            "tags": []
          },
          "execution_count": 311
        },
        {
          "output_type": "display_data",
          "data": {
            "image/png": "[encoded data removed]",
            "text/plain": [
              "<Figure size 432x288 with 1 Axes>"
            ]
          },
          "metadata": {
            "tags": []
          }
        }
      ]
    },
    {
      "cell_type": "markdown",
      "metadata": {
        "id": "OcUZGfYr_0WB"
      },
      "source": [
        "##### Leva em conta n nos gráficos"
      ]
    },
    {
      "cell_type": "markdown",
      "metadata": {
        "id": "BP1s2yUQAXrP"
      },
      "source": [
        "Achei que ficou melhor plotando em barras Deixei aqui para voces verem a possibilidade de plotar em linha tbm\n",
        "- Varias linhas juntas ficou muito confuso"
      ]
    },
    {
      "cell_type": "code",
      "metadata": {
        "colab": {
          "base_uri": "https://localhost:8080/",
          "height": 273
        },
        "id": "j3tO8xCgm44E",
        "outputId": "978ebf9a-9daf-4253-df58-987b4d19101e"
      },
      "source": [
        "g = sns.FacetGrid(df_mtd_partial, col=\"Method\", hue='Method', palette='flare')\n",
        "g.map(sns.pointplot, \"n\", \"RMSE norm\", ci=0.95, n_boot=2)"
      ],
      "execution_count": 309,
      "outputs": [
        {
          "output_type": "stream",
          "text": [
            "/usr/local/lib/python3.7/dist-packages/seaborn/axisgrid.py:643: UserWarning: Using the pointplot function without specifying `order` is likely to produce an incorrect plot.\n",
            "  warnings.warn(warning)\n"
          ],
          "name": "stderr"
        },
        {
          "output_type": "execute_result",
          "data": {
            "text/plain": [
              "<seaborn.axisgrid.FacetGrid at 0x7f8661cbf950>"
            ]
          },
          "metadata": {
            "tags": []
          },
          "execution_count": 309
        },
        {
          "output_type": "display_data",
          "data": {
            "image/png": "[encoded data removed]",
            "text/plain": [
              "<Figure size 1080x216 with 5 Axes>"
            ]
          },
          "metadata": {
            "tags": []
          }
        }
      ]
    },
    {
      "cell_type": "code",
      "metadata": {
        "colab": {
          "base_uri": "https://localhost:8080/",
          "height": 302
        },
        "id": "BLHJjXeC4PHr",
        "outputId": "cfb09c31-6d5d-486f-fc15-68971971b2eb"
      },
      "source": [
        "sns.barplot(data=df_mtd_partial, y=\"Method\", x=\"RMSE norm\", hue=\"n\", ci='sd', palette='flare', orient='h')"
      ],
      "execution_count": 312,
      "outputs": [
        {
          "output_type": "execute_result",
          "data": {
            "text/plain": [
              "<matplotlib.axes._subplots.AxesSubplot at 0x7f866191d890>"
            ]
          },
          "metadata": {
            "tags": []
          },
          "execution_count": 312
        },
        {
          "output_type": "display_data",
          "data": {
            "image/png": "[encoded data removed]",
            "text/plain": [
              "<Figure size 432x288 with 1 Axes>"
            ]
          },
          "metadata": {
            "tags": []
          }
        }
      ]
    },
    {
      "cell_type": "markdown",
      "metadata": {
        "id": "YExf-8LT_5V3"
      },
      "source": [
        "##### Usando n como estimativa de Erro"
      ]
    },
    {
      "cell_type": "code",
      "metadata": {
        "colab": {
          "base_uri": "https://localhost:8080/",
          "height": 302
        },
        "id": "a5Qkp-3RqFpB",
        "outputId": "4e7396a1-5f9c-4991-83ca-b4f10be8b302"
      },
      "source": [
        "sns.barplot(data=df_mtd, y=\"Method\", x=\"RMSE\", ci='sd', palette='flare', orient='h').set_xlim(0.31)"
      ],
      "execution_count": 305,
      "outputs": [
        {
          "output_type": "execute_result",
          "data": {
            "text/plain": [
              "(0.31, 0.38435374673273365)"
            ]
          },
          "metadata": {
            "tags": []
          },
          "execution_count": 305
        },
        {
          "output_type": "display_data",
          "data": {
            "image/png": "[encoded data removed]",
            "text/plain": [
              "<Figure size 432x288 with 1 Axes>"
            ]
          },
          "metadata": {
            "tags": []
          }
        }
      ]
    },
    {
      "cell_type": "code",
      "metadata": {
        "colab": {
          "base_uri": "https://localhost:8080/",
          "height": 302
        },
        "id": "g9PaJvIH-W6v",
        "outputId": "89403886-9300-4bad-99ad-e183496789ee"
      },
      "source": [
        "sns.barplot(data=df_mtd, y=\"Method\", x=\"RMSE\", ci='sd', palette='flare', orient='h')"
      ],
      "execution_count": 306,
      "outputs": [
        {
          "output_type": "execute_result",
          "data": {
            "text/plain": [
              "<matplotlib.axes._subplots.AxesSubplot at 0x7f8661d45b90>"
            ]
          },
          "metadata": {
            "tags": []
          },
          "execution_count": 306
        },
        {
          "output_type": "display_data",
          "data": {
            "image/png": "[encoded data removed]",
            "text/plain": [
              "<Figure size 432x288 with 1 Axes>"
            ]
          },
          "metadata": {
            "tags": []
          }
        }
      ]
    },
    {
      "cell_type": "markdown",
      "metadata": {
        "id": "OzJDWt2HAq8j"
      },
      "source": [
        "# Eficiência dos Metodos Comparação com o tempo (WIP)"
      ]
    },
    {
      "cell_type": "code",
      "metadata": {
        "id": "JH59N7ZPAwIn"
      },
      "source": [
        ""
      ],
      "execution_count": null,
      "outputs": []
    }
  ]
}